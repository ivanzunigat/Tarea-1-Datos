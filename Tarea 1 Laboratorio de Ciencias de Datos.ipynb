{
 "cells": [
  {
   "cell_type": "code",
   "execution_count": 1015,
   "metadata": {},
   "outputs": [],
   "source": [
    "import numpy as np\n",
    "import pandas as pd\n",
    "import matplotlib.pyplot as plt\n",
    "import seaborn as sns\n",
    "import os\n",
    "import re\n",
    "from numpy import nan as NA\n"
   ]
  },
  {
   "cell_type": "markdown",
   "metadata": {},
   "source": [
    "# P1 Carga y Limpieza de datos"
   ]
  },
  {
   "cell_type": "markdown",
   "metadata": {},
   "source": [
    "### 1. Carga"
   ]
  },
  {
   "cell_type": "code",
   "execution_count": 1016,
   "metadata": {},
   "outputs": [
    {
     "data": {
      "text/plain": [
       "1947"
      ]
     },
     "execution_count": 1016,
     "metadata": {},
     "output_type": "execute_result"
    }
   ],
   "source": [
    "#Carga de los datos\n",
    "\n",
    "df_all_13 = pd.read_csv(\"../Tarea-1-Datos/data/raw/w13/metrocuadrado_all_w13.csv\", engine='python')\n",
    "df_furnished_13 = pd.read_csv(\"../Tarea-1-Datos/data/raw/w13/metrocuadrado_all_w13.csv\", engine='python')\n",
    "df_all_14 = pd.read_csv(\"../Tarea-1-Datos/data/raw/w14/metrocuadrado_all_w14.csv\", engine='python')\n",
    "df_furnished_14 = pd.read_csv(\"../Tarea-1-Datos/data/raw/w14/metrocuadrado_furnished_w14.csv\", engine='python')\n",
    "df_all_15 = pd.read_csv(\"../Tarea-1-Datos/data/raw/w15/metrocuadrado_all_w15.csv\", engine='python')\n",
    "df_furnished_15 = pd.read_csv(\"../Tarea-1-Datos/data/raw/w15/metrocuadrado_furnished_w15.csv\", engine='python')\n",
    "df_all_16 = pd.read_csv(\"../Tarea-1-Datos/data/raw/w16/metrocuadrado_all_w16.csv\", engine='python')\n",
    "df_furnished_16 = pd.read_csv(\"../Tarea-1-Datos/data/raw/w16/metrocuadrado_furnished_w16.csv\", engine='python')\n",
    "df_all_17 = pd.read_csv(\"../Tarea-1-Datos/data/raw/w17/metrocuadrado_all_w17.csv\", engine='python')\n",
    "df_furnished_17 = pd.read_csv(\"../Tarea-1-Datos/data/raw/w17/metrocuadrado_furnished_w17.csv\", engine='python')\n",
    "\n",
    "#Agregamos variable categórica que diga si viene o no de un archivo \"furnished\"\n",
    "\n",
    "df_all_13['furnished']=0\n",
    "df_all_14['furnished']=0\n",
    "df_all_15['furnished']=0\n",
    "df_all_16['furnished']=0\n",
    "df_all_17['furnished']=0\n",
    "df_furnished_13['furnished']=1\n",
    "df_furnished_14['furnished']=1\n",
    "df_furnished_15['furnished']=1\n",
    "df_furnished_16['furnished']=1\n",
    "df_furnished_17['furnished']=1\n",
    "\n",
    "\n",
    "#generamos un sólo DataFrame\n",
    "\n",
    "frames = [df_all_13, df_furnished_13, df_all_14, df_furnished_14, df_all_15, df_furnished_15, df_all_16, df_furnished_16, df_all_17, df_furnished_17]\n",
    "\n",
    "df = pd.concat(frames)\n",
    "df1 = df\n",
    "#Eliminamos filas duplicadas\n",
    "\n",
    "df = df.drop_duplicates(['property_type|rent_type|location', 'price', 'n_rooms', 'n_bath',\n",
    "       'surface', 'details', 'url', 'metrocuadrado_index'])\n",
    "\n",
    "#Reindexamos y rdenamos para mejorar la eficiencia\n",
    "\n",
    "df = df.reset_index(drop=True)\n",
    "df.sort_index(inplace=True)\n",
    "\n",
    "#¿cuantas filas furnished no estaban repetidas?\n",
    "\n",
    "len(df[df[\"furnished\"]>0])\n"
   ]
  },
  {
   "cell_type": "code",
   "execution_count": 1017,
   "metadata": {},
   "outputs": [],
   "source": [
    "#pasamos el precio de str a float\n",
    "df[\"price\"] = df[\"price\"].replace('[\\$,]', '', regex=True)\n",
    "df[\"price\"] = df[\"price\"].replace('[\\.,]', '', regex=True).astype(float)\n",
    "\n",
    "#mismo ejercicio con la superficie y resto de columnas\n",
    "df[\"surface\"] = df[\"surface\"].replace('[\\ m2,]', '', regex=True).astype(float)\n",
    "\n",
    "#si tiene más de 5 piezas o baños los agruparemos como que tienen 6\n",
    "df[\"n_rooms\"] = df[\"n_rooms\"].replace('[\\5+,]', '6', regex=True).astype(float)\n",
    "\n",
    "df[\"n_bath\"] = df[\"n_bath\"].replace('[\\5+,]', '6', regex=True).astype(float)\n",
    "\n",
    "\n",
    "#df[df[\"n_rooms\"].isnull()][\"n_rooms\"]\n",
    "\n",
    "#Separamos la columna original en tres y la eliminamos luego\n",
    "\n",
    "df[\"property_type\"] = df['property_type|rent_type|location'].str.split(expand=True)[0]\n",
    "df[\"property_type\"] = df[\"property_type\"].replace('[\\,,]', '', regex=True)\n",
    "\n",
    "df[\"rent_type\"] = df['property_type|rent_type|location'].str.split(expand=True)[2]\n",
    "df[\"rent_type\"] = df[\"rent_type\"].replace('[\\,,]', '', regex=True)\n",
    "\n",
    "def location(row):\n",
    "    p = re.compile(\", (.*) Bogot\")\n",
    "    result = p.search(row[\"property_type|rent_type|location\"])\n",
    "    if type(result)==type(None):\n",
    "        return NA\n",
    "    else:\n",
    "        return result.group(1)\n",
    "df['location'] = df.apply (lambda row: location(row), axis=1)\n",
    "df = df[df['location'].notna()]\n",
    "\n",
    "#dflocation = df['property_type|rent_type|location'].str.split().str[-5:-2]\n",
    "#df[\"location\"] = dflocation=dflocation.iloc[:,].apply(lambda x: ' '.join(x))\n",
    "\n",
    "del df['property_type|rent_type|location']\n"
   ]
  },
  {
   "cell_type": "code",
   "execution_count": 1018,
   "metadata": {},
   "outputs": [
    {
     "data": {
      "text/plain": [
       "'https://www.metrocuadrado.com/inmueble/arriendo-casa-bogota-balcares-3-habitaciones-4-banos-4-garajes/9820-M2394337'"
      ]
     },
     "execution_count": 1018,
     "metadata": {},
     "output_type": "execute_result"
    }
   ],
   "source": [
    "#creamos función para calcular el precio por metro cuadrado, excepto los casos en que la superficie sea 0\n",
    "\n",
    "def price_per_m2 (row):\n",
    "    if row['surface'] == 0 :\n",
    "        return NA\n",
    "    else:\n",
    "        return row[\"price\"]/row[\"surface\"]\n",
    "    \n",
    "#creamos la nueva variable que guarde esta info\n",
    "\n",
    "df['price per m2'] = df.apply (lambda row: price_per_m2(row), axis=1)\n",
    "\n",
    "df[\"url\"].loc[12000]"
   ]
  },
  {
   "cell_type": "code",
   "execution_count": 1019,
   "metadata": {},
   "outputs": [],
   "source": [
    "#s=\"https://www.metrocuadrado.com/inmueble/arriendo-casa-bogota-balcares-3-habitaciones-4-banos-4-rajes/9820-M2394337\"\n",
    "#p = re.compile(\"(\\d)-garaje\")\n",
    "#result = p.search(s)\n",
    "#type(result)==type(None)\n",
    "\n",
    "#creamos una funcion que busca el número de garajes en el str del url\n",
    "\n",
    "def n_garajes(row):\n",
    "    p = re.compile(\"(\\d)-garaje\")\n",
    "    result = p.search(row[\"url\"])\n",
    "    if type(result)==type(None):\n",
    "        return 0\n",
    "    else:\n",
    "        return result.group(1)\n",
    "    \n",
    "#creamos la nueva variable que guarde esta info\n",
    "\n",
    "df['n_garajes'] = df.apply (lambda row: n_garajes(row), axis=1)\n"
   ]
  },
  {
   "cell_type": "code",
   "execution_count": 1020,
   "metadata": {},
   "outputs": [],
   "source": [
    "df1=df.query('property_type==\"Casa\" and 80<=surface<120')\n",
    "df2=df.query('property_type==\"Casa\" and 120<=surface<180')\n",
    "df3=df.query('property_type==\"Casa\" and 180<=surface<240')\n",
    "df4=df.query('property_type==\"Casa\" and 240<=surface<360')\n",
    "df5=df.query('property_type==\"Casa\" and 360<=surface<=460')\n",
    "df6=df.query('property_type==\"Apartamento\" and 40<=surface<60')\n",
    "df7=df.query('property_type==\"Apartamento\" and 60<=surface<80')\n",
    "df8=df.query('property_type==\"Apartamento\" and 80<=surface<=120')\n",
    "\n",
    "df[\"product_type\"]=0\n",
    "\n",
    "for i in range(8):\n",
    "    a=globals()[\"df\" + str(i+1)]\n",
    "    for j in a.index:\n",
    "        df.at[j, 'product_type'] = i\n",
    "        \n",
    "        \n"
   ]
  },
  {
   "cell_type": "code",
   "execution_count": 1021,
   "metadata": {},
   "outputs": [],
   "source": [
    "dfupz = pd.read_csv(\"../Tarea-1-Datos/data/asignacion_upz/barrio-upz.csv\", engine='python')"
   ]
  },
  {
   "cell_type": "code",
   "execution_count": 1022,
   "metadata": {},
   "outputs": [],
   "source": [
    "def pro_location(loc):\n",
    "    if type(loc) == str:\n",
    "        size = loc.strip()\n",
    "        if len(size) != 0:\n",
    "            return loc\n",
    "    else:\n",
    "        return 'NaN'\n",
    "\n",
    "dfupz['pro_location'] = dfupz['pro_location'].apply(transforma_str)\n",
    "dfupz['pro_location'] = dfupz['pro_location'].apply(str.upper)"
   ]
  },
  {
   "cell_type": "code",
   "execution_count": 1023,
   "metadata": {},
   "outputs": [],
   "source": [
    "# Inicializamos la columna\n",
    "df['upz'] = -1\n",
    "\n",
    "\n",
    "def fusion_upz(df):\n",
    "    \n",
    "    locations = list(dfupz['pro_location'])\n",
    "    upz_codes = list(dfupz['UPlCodigo'])\n",
    "    \n",
    "    for upz_code, location in zip(upz_codes, locations):\n",
    "        ind = df[df['location'].str.contains(location)].index\n",
    "        \n",
    "        for i in ind:\n",
    "            df.loc[i,'upz'] = upz_code\n",
    "    \n",
    "    return df\n",
    "\n",
    "\n",
    "df = fusion_upz(df)\n"
   ]
  },
  {
   "cell_type": "code",
   "execution_count": 1024,
   "metadata": {},
   "outputs": [
    {
     "name": "stdout",
     "output_type": "stream",
     "text": [
      "Porcentaje con upz\n"
     ]
    },
    {
     "data": {
      "text/plain": [
       "93.52686019352686"
      ]
     },
     "execution_count": 1024,
     "metadata": {},
     "output_type": "execute_result"
    }
   ],
   "source": [
    "print('Porcentaje con upz')\n",
    "len(df[df['upz'] != -1])/len(df) * 100"
   ]
  },
  {
   "cell_type": "code",
   "execution_count": 1025,
   "metadata": {},
   "outputs": [],
   "source": [
    "df_est_pob = pd.read_csv(\"../Tarea-1-Datos/data/estadisticas_upz/estadisticas_poblacion.csv\", engine='python')\n",
    "df_est_pob.drop([\"Unnamed: 0\", \"nomupz\"], axis=1, inplace=True)\n",
    "\n",
    "df_ind_ins = pd.read_csv(\"../Tarea-1-Datos/data/estadisticas_upz/indice_inseguridad.csv\", engine='python')\n",
    "df_ind_ins.drop([\"Unnamed: 0\", \"UPlNombre2\"], axis=1, inplace=True)\n",
    "df_ind_ins = df_ind_ins.rename(columns = {'UPlCodigo' : 'upz'})\n",
    "\n",
    "df_por_ver = pd.read_csv(\"../Tarea-1-Datos/data/estadisticas_upz/porcentaje_areas_verdes.csv\", engine='python')\n",
    "df_por_ver.drop([\"Unnamed: 0\"], axis=1, inplace=True)\n",
    "df_por_ver = df_por_ver.rename(columns = {'upz' : 'zone'})\n",
    "df_por_ver = df_por_ver.rename(columns = {'cod_upz' : 'upz'})\n",
    "\n",
    "\n",
    "def por_ver(row):\n",
    "    return str(\"UPZ\"+str(int(row[\"upz\"])))\n",
    "\n",
    "df_por_ver[\"upz\"] = df_por_ver.apply (lambda row: por_ver(row), axis=1)\n"
   ]
  },
  {
   "cell_type": "code",
   "execution_count": 1026,
   "metadata": {},
   "outputs": [],
   "source": [
    "df_info1 = df_est_pob.merge(df_por_ver, on = 'upz',how = 'left')\n",
    "df_info = df_info1.merge(df_ind_ins, on = 'upz',how = 'left')\n",
    "df = df.merge(df_info, on = 'upz',how = 'left')"
   ]
  },
  {
   "cell_type": "code",
   "execution_count": 1027,
   "metadata": {},
   "outputs": [
    {
     "name": "stdout",
     "output_type": "stream",
     "text": [
      "<class 'pandas.core.frame.DataFrame'>\n",
      "Int64Index: 17984 entries, 0 to 17983\n",
      "Data columns (total 25 columns):\n",
      " #   Column                                   Non-Null Count  Dtype  \n",
      "---  ------                                   --------------  -----  \n",
      " 0   price                                    17984 non-null  float64\n",
      " 1   n_rooms                                  17950 non-null  float64\n",
      " 2   n_bath                                   17753 non-null  float64\n",
      " 3   surface                                  17984 non-null  float64\n",
      " 4   details                                  17920 non-null  object \n",
      " 5   url                                      17984 non-null  object \n",
      " 6   metrocuadrado_index                      17984 non-null  float64\n",
      " 7   furnished                                17984 non-null  int64  \n",
      " 8   property_type                            17984 non-null  object \n",
      " 9   rent_type                                17984 non-null  object \n",
      " 10  location                                 17984 non-null  object \n",
      " 11  price per m2                             17708 non-null  float64\n",
      " 12  n_garajes                                17984 non-null  object \n",
      " 13  product_type                             17984 non-null  int64  \n",
      " 14  upz                                      17984 non-null  object \n",
      " 15  personas                                 16820 non-null  float64\n",
      " 16  trabajoinf_ninos_5_17_anos_perc          16820 non-null  float64\n",
      " 17  trabajoinfampliado_ninos_5_17_anos_perc  16820 non-null  float64\n",
      " 18  jovenes_14_24_anos_nini_perc             16820 non-null  float64\n",
      " 19  indice_envegecimiento                    16820 non-null  float64\n",
      " 20  jefe_mujer_perc                          16820 non-null  float64\n",
      " 21  adultos_mayores_pobres_perc              16820 non-null  float64\n",
      " 22  zone                                     16820 non-null  object \n",
      " 23  areas_verdes_perc                        16820 non-null  float64\n",
      " 24  indice_inseguridad                       16820 non-null  float64\n",
      "dtypes: float64(15), int64(2), object(8)\n",
      "memory usage: 3.6+ MB\n"
     ]
    }
   ],
   "source": [
    "df.info()"
   ]
  },
  {
   "cell_type": "code",
   "execution_count": 1028,
   "metadata": {},
   "outputs": [
    {
     "name": "stdout",
     "output_type": "stream",
     "text": [
      "<class 'pandas.core.frame.DataFrame'>\n",
      "Int64Index: 17984 entries, 0 to 17983\n",
      "Data columns (total 25 columns):\n",
      " #   Column                                   Non-Null Count  Dtype  \n",
      "---  ------                                   --------------  -----  \n",
      " 0   price                                    17984 non-null  float64\n",
      " 1   n_rooms                                  17950 non-null  float64\n",
      " 2   n_bath                                   17753 non-null  float64\n",
      " 3   surface                                  17984 non-null  float64\n",
      " 4   details                                  17920 non-null  object \n",
      " 5   url                                      17984 non-null  object \n",
      " 6   metrocuadrado_index                      17984 non-null  float64\n",
      " 7   furnished                                17984 non-null  int64  \n",
      " 8   property_type                            17984 non-null  object \n",
      " 9   rent_type                                17984 non-null  object \n",
      " 10  location                                 17984 non-null  object \n",
      " 11  price per m2                             17708 non-null  float64\n",
      " 12  n_garajes                                17984 non-null  object \n",
      " 13  product_type                             17984 non-null  int64  \n",
      " 14  upz                                      17984 non-null  object \n",
      " 15  personas                                 16820 non-null  float64\n",
      " 16  trabajoinf_ninos_5_17_anos_perc          16820 non-null  float64\n",
      " 17  trabajoinfampliado_ninos_5_17_anos_perc  16820 non-null  float64\n",
      " 18  jovenes_14_24_anos_nini_perc             16820 non-null  float64\n",
      " 19  indice_envegecimiento                    16820 non-null  float64\n",
      " 20  jefe_mujer_perc                          16820 non-null  float64\n",
      " 21  adultos_mayores_pobres_perc              16820 non-null  float64\n",
      " 22  zone                                     16820 non-null  object \n",
      " 23  areas_verdes_perc                        16820 non-null  float64\n",
      " 24  indice_inseguridad                       16820 non-null  float64\n",
      "dtypes: float64(15), int64(2), object(8)\n",
      "memory usage: 3.6+ MB\n"
     ]
    }
   ],
   "source": [
    "df.info()"
   ]
  },
  {
   "cell_type": "code",
   "execution_count": null,
   "metadata": {},
   "outputs": [],
   "source": []
  },
  {
   "cell_type": "code",
   "execution_count": null,
   "metadata": {},
   "outputs": [],
   "source": []
  }
 ],
 "metadata": {
  "kernelspec": {
   "display_name": "Python 3",
   "language": "python",
   "name": "python3"
  },
  "language_info": {
   "codemirror_mode": {
    "name": "ipython",
    "version": 3
   },
   "file_extension": ".py",
   "mimetype": "text/x-python",
   "name": "python",
   "nbconvert_exporter": "python",
   "pygments_lexer": "ipython3",
   "version": "3.7.6"
  }
 },
 "nbformat": 4,
 "nbformat_minor": 4
}
